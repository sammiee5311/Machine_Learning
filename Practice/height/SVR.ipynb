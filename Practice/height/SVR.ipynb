{
 "cells": [
  {
   "cell_type": "code",
   "execution_count": 17,
   "metadata": {},
   "outputs": [],
   "source": [
    "import numpy as np\n",
    "import matplotlib.pyplot as plt\n",
    "import pandas as pd"
   ]
  },
  {
   "cell_type": "code",
   "execution_count": 18,
   "metadata": {},
   "outputs": [],
   "source": [
    "dataset = pd.read_csv('height.csv')\n",
    "X = dataset.iloc[:, :-1].values\n",
    "y = dataset.iloc[:, -1].values"
   ]
  },
  {
   "cell_type": "code",
   "execution_count": 4,
   "metadata": {},
   "outputs": [
    {
     "name": "stdout",
     "output_type": "stream",
     "text": [
      "[[59.8]\n",
      " [63.2]\n",
      " [63.3]\n",
      " ...\n",
      " [69.3]\n",
      " [69.3]\n",
      " [67. ]]\n"
     ]
    }
   ],
   "source": [
    "y = y.reshape(len(y),1)"
   ]
  },
  {
   "cell_type": "code",
   "execution_count": 5,
   "metadata": {},
   "outputs": [],
   "source": [
    "from sklearn.model_selection import train_test_split\n",
    "X_train, X_test, y_train, y_test = train_test_split(X, y, test_size = 0.2, random_state = 0)"
   ]
  },
  {
   "cell_type": "code",
   "execution_count": 11,
   "metadata": {},
   "outputs": [],
   "source": [
    "from sklearn.preprocessing import StandardScaler\n",
    "sc_X = StandardScaler()\n",
    "sc_y = StandardScaler()\n",
    "X_train = sc_X.fit_transform(X_train)\n",
    "y_train = sc_y.fit_transform(y_train)"
   ]
  },
  {
   "cell_type": "code",
   "execution_count": 12,
   "metadata": {},
   "outputs": [
    {
     "name": "stderr",
     "output_type": "stream",
     "text": [
      "C:\\Anaconda\\lib\\site-packages\\sklearn\\utils\\validation.py:724: DataConversionWarning: A column-vector y was passed when a 1d array was expected. Please change the shape of y to (n_samples, ), for example using ravel().\n",
      "  y = column_or_1d(y, warn=True)\n"
     ]
    },
    {
     "data": {
      "text/plain": [
       "SVR(C=1.0, cache_size=200, coef0=0.0, degree=3, epsilon=0.1,\n",
       "    gamma='auto_deprecated', kernel='rbf', max_iter=-1, shrinking=True,\n",
       "    tol=0.001, verbose=False)"
      ]
     },
     "execution_count": 12,
     "metadata": {},
     "output_type": "execute_result"
    }
   ],
   "source": [
    "from sklearn.svm import SVR\n",
    "regressor = SVR(kernel = 'rbf')\n",
    "regressor.fit(X_train, y_train)"
   ]
  },
  {
   "cell_type": "code",
   "execution_count": 15,
   "metadata": {},
   "outputs": [
    {
     "name": "stdout",
     "output_type": "stream",
     "text": [
      "[[-0.18 66.7 ]\n",
      " [-0.18 70.4 ]\n",
      " [-0.18 68.1 ]\n",
      " [-0.18 67.1 ]\n",
      " [-0.18 69.5 ]\n",
      " [-0.18 68.5 ]\n",
      " [-0.18 70.7 ]\n",
      " [-0.18 67.5 ]\n",
      " [-0.18 66.8 ]\n",
      " [-0.18 71.1 ]\n",
      " [-0.18 73.2 ]\n",
      " [-0.18 65.9 ]\n",
      " [-0.18 70.1 ]\n",
      " [-0.18 66.5 ]\n",
      " [-0.18 71.8 ]\n",
      " [-0.18 70.4 ]\n",
      " [-0.18 78.2 ]\n",
      " [-0.18 74.4 ]\n",
      " [-0.18 67.4 ]\n",
      " [-0.18 64.8 ]\n",
      " [-0.18 72.5 ]\n",
      " [-0.18 67.4 ]\n",
      " [-0.18 67.  ]\n",
      " [-0.18 64.9 ]\n",
      " [-0.18 66.3 ]\n",
      " [-0.18 65.5 ]\n",
      " [-0.18 72.5 ]\n",
      " [-0.18 69.9 ]\n",
      " [-0.18 67.2 ]\n",
      " [-0.18 69.8 ]\n",
      " [-0.18 68.4 ]\n",
      " [-0.18 68.6 ]\n",
      " [-0.18 66.5 ]\n",
      " [-0.18 67.5 ]\n",
      " [-0.18 70.6 ]\n",
      " [-0.18 69.3 ]\n",
      " [-0.18 72.6 ]\n",
      " [-0.18 65.7 ]\n",
      " [-0.18 70.3 ]\n",
      " [-0.18 69.1 ]\n",
      " [-0.18 66.3 ]\n",
      " [-0.18 70.4 ]\n",
      " [-0.18 72.7 ]\n",
      " [-0.18 66.8 ]\n",
      " [-0.18 67.7 ]\n",
      " [-0.18 63.3 ]\n",
      " [-0.18 69.  ]\n",
      " [-0.18 70.  ]\n",
      " [-0.18 73.8 ]\n",
      " [-0.18 66.4 ]\n",
      " [-0.18 68.4 ]\n",
      " [-0.18 66.  ]\n",
      " [-0.18 68.5 ]\n",
      " [-0.18 66.3 ]\n",
      " [-0.18 65.1 ]\n",
      " [-0.18 63.2 ]\n",
      " [-0.18 70.4 ]\n",
      " [-0.18 65.6 ]\n",
      " [-0.18 66.1 ]\n",
      " [-0.18 66.5 ]\n",
      " [-0.18 68.3 ]\n",
      " [-0.18 65.3 ]\n",
      " [-0.18 66.9 ]\n",
      " [-0.18 69.6 ]\n",
      " [-0.18 74.3 ]\n",
      " [-0.18 68.2 ]\n",
      " [-0.18 68.6 ]\n",
      " [-0.18 73.2 ]\n",
      " [-0.18 70.4 ]\n",
      " [-0.18 72.1 ]\n",
      " [-0.18 61.2 ]\n",
      " [-0.18 69.1 ]\n",
      " [-0.18 71.5 ]\n",
      " [-0.18 72.3 ]\n",
      " [-0.18 68.3 ]\n",
      " [-0.18 69.8 ]\n",
      " [-0.18 70.5 ]\n",
      " [-0.18 73.2 ]\n",
      " [-0.18 67.1 ]\n",
      " [-0.18 64.6 ]\n",
      " [-0.18 64.8 ]\n",
      " [-0.18 71.  ]\n",
      " [-0.18 68.1 ]\n",
      " [-0.18 62.5 ]\n",
      " [-0.18 68.4 ]\n",
      " [-0.18 64.1 ]\n",
      " [-0.18 71.5 ]\n",
      " [-0.18 72.1 ]\n",
      " [-0.18 69.1 ]\n",
      " [-0.18 69.1 ]\n",
      " [-0.18 71.3 ]\n",
      " [-0.18 66.5 ]\n",
      " [-0.18 69.4 ]\n",
      " [-0.18 65.6 ]\n",
      " [-0.18 69.3 ]\n",
      " [-0.18 67.2 ]\n",
      " [-0.18 65.7 ]\n",
      " [-0.18 70.3 ]\n",
      " [-0.18 68.1 ]\n",
      " [-0.18 74.3 ]\n",
      " [-0.18 68.2 ]\n",
      " [-0.18 67.9 ]\n",
      " [-0.18 69.5 ]\n",
      " [-0.18 70.2 ]\n",
      " [-0.18 69.2 ]\n",
      " [-0.18 67.9 ]\n",
      " [-0.18 67.5 ]\n",
      " [-0.18 68.1 ]\n",
      " [-0.18 68.6 ]\n",
      " [-0.18 73.  ]\n",
      " [-0.18 63.8 ]\n",
      " [-0.18 71.2 ]\n",
      " [-0.18 71.3 ]\n",
      " [-0.18 67.6 ]\n",
      " [-0.18 63.6 ]\n",
      " [-0.18 67.6 ]\n",
      " [-0.18 72.4 ]\n",
      " [-0.18 67.8 ]\n",
      " [-0.18 65.7 ]\n",
      " [-0.18 69.8 ]\n",
      " [-0.18 71.2 ]\n",
      " [-0.18 59.8 ]\n",
      " [-0.18 70.2 ]\n",
      " [-0.18 68.3 ]\n",
      " [-0.18 72.2 ]\n",
      " [-0.18 67.  ]\n",
      " [-0.18 68.2 ]\n",
      " [-0.18 72.  ]\n",
      " [-0.18 72.4 ]\n",
      " [-0.18 66.4 ]\n",
      " [-0.18 68.  ]\n",
      " [-0.18 68.6 ]\n",
      " [-0.18 70.5 ]\n",
      " [-0.18 66.8 ]\n",
      " [-0.18 70.3 ]\n",
      " [-0.18 75.7 ]\n",
      " [-0.18 65.1 ]\n",
      " [-0.18 65.8 ]\n",
      " [-0.18 69.4 ]\n",
      " [-0.18 68.3 ]\n",
      " [-0.18 64.2 ]\n",
      " [-0.18 66.2 ]\n",
      " [-0.18 61.3 ]\n",
      " [-0.18 63.3 ]\n",
      " [-0.18 73.7 ]\n",
      " [-0.18 71.2 ]\n",
      " [-0.18 73.8 ]\n",
      " [-0.18 70.2 ]\n",
      " [-0.18 66.3 ]\n",
      " [-0.18 71.4 ]\n",
      " [-0.18 67.2 ]\n",
      " [-0.18 66.8 ]\n",
      " [-0.18 64.4 ]\n",
      " [-0.18 67.3 ]\n",
      " [-0.18 65.4 ]\n",
      " [-0.18 65.2 ]\n",
      " [-0.18 67.8 ]\n",
      " [-0.18 69.4 ]\n",
      " [-0.18 72.1 ]\n",
      " [-0.18 68.1 ]\n",
      " [-0.18 73.3 ]\n",
      " [-0.18 67.4 ]\n",
      " [-0.18 63.9 ]\n",
      " [-0.18 67.  ]\n",
      " [-0.18 69.5 ]\n",
      " [-0.18 69.7 ]\n",
      " [-0.18 66.8 ]\n",
      " [-0.18 71.  ]\n",
      " [-0.18 63.2 ]\n",
      " [-0.18 67.4 ]\n",
      " [-0.18 66.6 ]\n",
      " [-0.18 68.2 ]\n",
      " [-0.18 67.4 ]\n",
      " [-0.18 66.3 ]\n",
      " [-0.18 70.7 ]\n",
      " [-0.18 67.  ]\n",
      " [-0.18 68.1 ]\n",
      " [-0.18 65.8 ]\n",
      " [-0.18 66.4 ]\n",
      " [-0.18 66.5 ]\n",
      " [-0.18 65.1 ]\n",
      " [-0.18 72.3 ]\n",
      " [-0.18 71.2 ]\n",
      " [-0.18 66.9 ]\n",
      " [-0.18 69.1 ]\n",
      " [-0.18 67.9 ]\n",
      " [-0.18 67.1 ]\n",
      " [-0.18 67.2 ]\n",
      " [-0.18 70.3 ]\n",
      " [-0.18 71.2 ]\n",
      " [-0.18 68.4 ]\n",
      " [-0.18 66.6 ]\n",
      " [-0.18 68.9 ]\n",
      " [-0.18 68.9 ]\n",
      " [-0.18 64.4 ]\n",
      " [-0.18 68.4 ]\n",
      " [-0.18 70.4 ]\n",
      " [-0.18 68.6 ]\n",
      " [-0.18 68.1 ]\n",
      " [-0.18 69.7 ]\n",
      " [-0.18 66.8 ]\n",
      " [-0.18 69.6 ]\n",
      " [-0.18 64.3 ]\n",
      " [-0.18 68.1 ]\n",
      " [-0.18 64.6 ]\n",
      " [-0.18 70.6 ]\n",
      " [-0.18 69.7 ]\n",
      " [-0.18 67.8 ]\n",
      " [-0.18 66.8 ]\n",
      " [-0.18 70.4 ]\n",
      " [-0.18 69.  ]\n",
      " [-0.18 66.8 ]\n",
      " [-0.18 75.7 ]\n",
      " [-0.18 65.2 ]\n",
      " [-0.18 68.6 ]\n",
      " [-0.18 67.2 ]]\n"
     ]
    }
   ],
   "source": [
    "y_pred = sc_y.inverse_transform(regressor.predict(sc_X.transform(X_test)))\n",
    "np.set_printoptions(precision=2)\n",
    "print(np.concatenate((y_pred.reshape(len(y_pred),1), y_test.reshape(len(y_test),1)),1))"
   ]
  },
  {
   "cell_type": "code",
   "execution_count": 16,
   "metadata": {},
   "outputs": [
    {
     "data": {
      "text/plain": [
       "-581.6446748951853"
      ]
     },
     "execution_count": 16,
     "metadata": {},
     "output_type": "execute_result"
    }
   ],
   "source": [
    "from sklearn.metrics import r2_score\n",
    "r2_score(y_test, y_pred)"
   ]
  }
 ],
 "metadata": {
  "kernelspec": {
   "display_name": "Python 3",
   "language": "python",
   "name": "python3"
  },
  "language_info": {
   "codemirror_mode": {
    "name": "ipython",
    "version": 3
   },
   "file_extension": ".py",
   "mimetype": "text/x-python",
   "name": "python",
   "nbconvert_exporter": "python",
   "pygments_lexer": "ipython3",
   "version": "3.7.4"
  }
 },
 "nbformat": 4,
 "nbformat_minor": 2
}
