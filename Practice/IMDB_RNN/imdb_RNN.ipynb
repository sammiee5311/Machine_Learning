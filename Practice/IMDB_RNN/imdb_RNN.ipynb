{
  "nbformat": 4,
  "nbformat_minor": 0,
  "metadata": {
    "colab": {
      "name": "imdb_RNN.ipynb",
      "provenance": []
    },
    "kernelspec": {
      "name": "python3",
      "display_name": "Python 3"
    },
    "accelerator": "GPU"
  },
  "cells": [
    {
      "cell_type": "code",
      "metadata": {
        "id": "Ow6oP2U4IUgE",
        "colab_type": "code",
        "colab": {}
      },
      "source": [
        "%matplotlib inline\n",
        "import matplotlib.pyplot as plt\n",
        "import tensorflow as tf\n",
        "import numpy as np\n",
        "from scipy.spatial.distance import cdist\n",
        "from tensorflow.keras.models import Sequential\n",
        "from tensorflow.keras.layers import Dense, GRU, Embedding\n",
        "from tensorflow.keras.optimizers import Adam\n",
        "from tensorflow.keras.preprocessing.text import Tokenizer\n",
        "from tensorflow.keras.preprocessing.sequence import pad_sequences"
      ],
      "execution_count": 1,
      "outputs": []
    },
    {
      "cell_type": "code",
      "metadata": {
        "id": "imxORjoGH_Lv",
        "colab_type": "code",
        "colab": {}
      },
      "source": [
        "import imdb"
      ],
      "execution_count": 6,
      "outputs": []
    },
    {
      "cell_type": "code",
      "metadata": {
        "id": "AQkzm93vIEB0",
        "colab_type": "code",
        "colab": {
          "base_uri": "https://localhost:8080/",
          "height": 67
        },
        "outputId": "e5ccf0b9-213b-4219-c6b5-906fe828ef01"
      },
      "source": [
        "imdb.maybe_download_and_extract()"
      ],
      "execution_count": 7,
      "outputs": [
        {
          "output_type": "stream",
          "text": [
            "- Download progress: 100.0%\n",
            "Download finished. Extracting files.\n",
            "Done.\n"
          ],
          "name": "stdout"
        }
      ]
    },
    {
      "cell_type": "code",
      "metadata": {
        "id": "3St2cHUYIUCc",
        "colab_type": "code",
        "colab": {}
      },
      "source": [
        "X_train, y_train = imdb.load_data(train=True)\n",
        "X_test, y_test = imdb.load_data(train=False)"
      ],
      "execution_count": 22,
      "outputs": []
    },
    {
      "cell_type": "code",
      "metadata": {
        "id": "SAwSX4bQTTdM",
        "colab_type": "code",
        "colab": {}
      },
      "source": [
        "y_train = np.asarray(y_train)\n",
        "y_test = np.asarray(y_test)"
      ],
      "execution_count": 56,
      "outputs": []
    },
    {
      "cell_type": "code",
      "metadata": {
        "id": "rAhMhOUxIjYa",
        "colab_type": "code",
        "colab": {}
      },
      "source": [
        "data_text = X_train + X_test"
      ],
      "execution_count": 23,
      "outputs": []
    },
    {
      "cell_type": "code",
      "metadata": {
        "id": "6-vtshqiInfZ",
        "colab_type": "code",
        "colab": {}
      },
      "source": [
        "num_words = 1000"
      ],
      "execution_count": 24,
      "outputs": []
    },
    {
      "cell_type": "code",
      "metadata": {
        "id": "2uLvfqxfI4tM",
        "colab_type": "code",
        "colab": {}
      },
      "source": [
        "tokenizer = Tokenizer(num_words=num_words)\n",
        "tokenizer.fit_on_texts(data_text)"
      ],
      "execution_count": 25,
      "outputs": []
    },
    {
      "cell_type": "code",
      "metadata": {
        "id": "U7UeE9NdKJ0S",
        "colab_type": "code",
        "colab": {}
      },
      "source": [
        "tokenizer.word_index"
      ],
      "execution_count": null,
      "outputs": []
    },
    {
      "cell_type": "code",
      "metadata": {
        "id": "trydVwIrJkuv",
        "colab_type": "code",
        "colab": {}
      },
      "source": [
        "sequence_train = tokenizer.texts_to_sequences(X_train)\n",
        "sequence_test = tokenizer.texts_to_sequences(X_test)"
      ],
      "execution_count": 30,
      "outputs": []
    },
    {
      "cell_type": "code",
      "metadata": {
        "id": "YcOKW2PXKgEx",
        "colab_type": "code",
        "colab": {}
      },
      "source": [
        "num_tokens = [len(tokens) for tokens in sequence_train + sequence_test]\n",
        "num_tokens = np.array(num_tokens)"
      ],
      "execution_count": 31,
      "outputs": []
    },
    {
      "cell_type": "code",
      "metadata": {
        "id": "ErOzuNIALUGd",
        "colab_type": "code",
        "colab": {
          "base_uri": "https://localhost:8080/",
          "height": 34
        },
        "outputId": "e66cf724-ea76-4a68-a121-846e028c8774"
      },
      "source": [
        "print(num_tokens)"
      ],
      "execution_count": 32,
      "outputs": [
        {
          "output_type": "stream",
          "text": [
            "[ 175  123 1058 ...  162  101  358]\n"
          ],
          "name": "stdout"
        }
      ]
    },
    {
      "cell_type": "code",
      "metadata": {
        "id": "EdziNHhlLnSt",
        "colab_type": "code",
        "colab": {
          "base_uri": "https://localhost:8080/",
          "height": 34
        },
        "outputId": "eab73db8-aa42-4a64-de7e-ab5a1254b4da"
      },
      "source": [
        "max_tokens = np.mean(num_tokens) + 2 * np.std(num_tokens)\n",
        "max_tokens = int(max_tokens)\n",
        "print(np.sum(num_tokens < max_tokens) / len(num_tokens))"
      ],
      "execution_count": 36,
      "outputs": [
        {
          "output_type": "stream",
          "text": [
            "0.94542\n"
          ],
          "name": "stdout"
        }
      ]
    },
    {
      "cell_type": "code",
      "metadata": {
        "id": "8wYrYF_8MCkK",
        "colab_type": "code",
        "colab": {}
      },
      "source": [
        "pad_sequence_train = pad_sequences(sequence_train, maxlen=max_tokens,\n",
        "                                   padding='pre', truncating='pre')\n",
        "pad_sequence_test = pad_sequences(sequence_test, maxlen=max_tokens,\n",
        "                                   padding='pre', truncating='pre')"
      ],
      "execution_count": 37,
      "outputs": []
    },
    {
      "cell_type": "code",
      "metadata": {
        "id": "L2uYPn0AOu59",
        "colab_type": "code",
        "colab": {}
      },
      "source": [
        "pad_sequence_train[0]"
      ],
      "execution_count": null,
      "outputs": []
    },
    {
      "cell_type": "code",
      "metadata": {
        "id": "VvCdX3qAO8_X",
        "colab_type": "code",
        "colab": {}
      },
      "source": [
        "model = Sequential()\n",
        "embedding_size = 32"
      ],
      "execution_count": 50,
      "outputs": []
    },
    {
      "cell_type": "code",
      "metadata": {
        "id": "DlMN5svCPH8r",
        "colab_type": "code",
        "colab": {}
      },
      "source": [
        "model.add(Embedding(input_dim=num_words,\n",
        "                    output_dim=embedding_size,\n",
        "                    input_length=max_tokens,\n",
        "                    name='layer_embedding'))"
      ],
      "execution_count": 51,
      "outputs": []
    },
    {
      "cell_type": "code",
      "metadata": {
        "id": "b2TX4PcFQMiz",
        "colab_type": "code",
        "colab": {}
      },
      "source": [
        "model.add(GRU(units=64, return_sequences=True))\n",
        "model.add(GRU(units=32, return_sequences=True))\n",
        "model.add(GRU(units=16))\n",
        "model.add(Dense(1, activation='sigmoid'))\n",
        "optimizer = Adam(lr=1e-3)\n",
        "model.compile(loss='binary_crossentropy',\n",
        "              optimizer=optimizer,\n",
        "              metrics=['acc'])"
      ],
      "execution_count": 52,
      "outputs": []
    },
    {
      "cell_type": "code",
      "metadata": {
        "id": "w96mjfC3Q0Lm",
        "colab_type": "code",
        "colab": {
          "base_uri": "https://localhost:8080/",
          "height": 319
        },
        "outputId": "bd1130a8-e37c-4a42-f26a-fe193d2ab583"
      },
      "source": [
        "model.summary()"
      ],
      "execution_count": 53,
      "outputs": [
        {
          "output_type": "stream",
          "text": [
            "Model: \"sequential_2\"\n",
            "_________________________________________________________________\n",
            "Layer (type)                 Output Shape              Param #   \n",
            "=================================================================\n",
            "layer_embedding (Embedding)  (None, 435, 32)           32000     \n",
            "_________________________________________________________________\n",
            "gru_9 (GRU)                  (None, 435, 64)           18816     \n",
            "_________________________________________________________________\n",
            "gru_10 (GRU)                 (None, 435, 32)           9408      \n",
            "_________________________________________________________________\n",
            "gru_11 (GRU)                 (None, 16)                2400      \n",
            "_________________________________________________________________\n",
            "dense_2 (Dense)              (None, 1)                 17        \n",
            "=================================================================\n",
            "Total params: 62,641\n",
            "Trainable params: 62,641\n",
            "Non-trainable params: 0\n",
            "_________________________________________________________________\n"
          ],
          "name": "stdout"
        }
      ]
    },
    {
      "cell_type": "code",
      "metadata": {
        "id": "0sNtvbCHRp8V",
        "colab_type": "code",
        "colab": {}
      },
      "source": [
        "import keras\n",
        "\n",
        "callbacks = [\n",
        "             keras.callbacks.TensorBoard(\n",
        "                 log_dir = 'my_log_dir',\n",
        "                 histogram_freq=1,\n",
        "                 embeddings_freq=1\n",
        "             ),\n",
        "             keras.callbacks.EarlyStopping(\n",
        "                 monitor='val_acc',\n",
        "                 patience=2\n",
        "             )\n",
        "]"
      ],
      "execution_count": 54,
      "outputs": []
    },
    {
      "cell_type": "code",
      "metadata": {
        "id": "__5cFD3vRS1_",
        "colab_type": "code",
        "colab": {
          "base_uri": "https://localhost:8080/",
          "height": 222
        },
        "outputId": "f6aa7a00-c0b9-4180-c54f-226a21fa34f7"
      },
      "source": [
        "model.fit(pad_sequence_train, y_train,\n",
        "          validation_split=0.05, callbacks=callbacks, epochs=10, batch_size=32)"
      ],
      "execution_count": 57,
      "outputs": [
        {
          "output_type": "stream",
          "text": [
            "Epoch 1/10\n",
            "  1/743 [..............................] - ETA: 0s - loss: 0.6932 - acc: 0.4062WARNING:tensorflow:From /usr/local/lib/python3.6/dist-packages/tensorflow/python/ops/summary_ops_v2.py:1277: stop (from tensorflow.python.eager.profiler) is deprecated and will be removed after 2020-07-01.\n",
            "Instructions for updating:\n",
            "use `tf.profiler.experimental.stop` instead.\n",
            "  2/743 [..............................] - ETA: 2:41 - loss: 0.6929 - acc: 0.4688WARNING:tensorflow:Callbacks method `on_train_batch_end` is slow compared to the batch time (batch time: 0.1676s vs `on_train_batch_end` time: 0.2664s). Check your callbacks.\n",
            "743/743 [==============================] - 170s 229ms/step - loss: 0.4635 - acc: 0.7732 - val_loss: 0.3042 - val_acc: 0.9112\n",
            "Epoch 2/10\n",
            "743/743 [==============================] - 169s 228ms/step - loss: 0.3435 - acc: 0.8584 - val_loss: 0.3510 - val_acc: 0.8424\n",
            "Epoch 3/10\n",
            "743/743 [==============================] - 169s 228ms/step - loss: 0.3041 - acc: 0.8765 - val_loss: 0.2654 - val_acc: 0.8904\n"
          ],
          "name": "stdout"
        },
        {
          "output_type": "execute_result",
          "data": {
            "text/plain": [
              "<tensorflow.python.keras.callbacks.History at 0x7f92f00eb6d8>"
            ]
          },
          "metadata": {
            "tags": []
          },
          "execution_count": 57
        }
      ]
    },
    {
      "cell_type": "code",
      "metadata": {
        "id": "uKOtB_YZVSa4",
        "colab_type": "code",
        "colab": {
          "base_uri": "https://localhost:8080/",
          "height": 34
        },
        "outputId": "d11e33ea-2724-4182-f58d-25ce37d22470"
      },
      "source": [
        "result = model.evaluate(pad_sequence_test, y_test)"
      ],
      "execution_count": 58,
      "outputs": [
        {
          "output_type": "stream",
          "text": [
            "782/782 [==============================] - 71s 91ms/step - loss: 0.3051 - acc: 0.8720\n"
          ],
          "name": "stdout"
        }
      ]
    },
    {
      "cell_type": "code",
      "metadata": {
        "id": "ktyEDJzeVfze",
        "colab_type": "code",
        "colab": {
          "base_uri": "https://localhost:8080/",
          "height": 34
        },
        "outputId": "63c88f12-7def-4fe7-b336-af7220098e6e"
      },
      "source": [
        "print('Accuracy: %.2f' %(result[1]*100))"
      ],
      "execution_count": 67,
      "outputs": [
        {
          "output_type": "stream",
          "text": [
            "Accuracy: 87.20\n"
          ],
          "name": "stdout"
        }
      ]
    }
  ]
}